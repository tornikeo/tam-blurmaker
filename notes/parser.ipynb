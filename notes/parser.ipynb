{
 "cells": [
  {
   "cell_type": "code",
   "execution_count": 16,
   "metadata": {},
   "outputs": [
    {
     "data": {
      "text/plain": [
       "{'points': [{'frame': 1008, 'pos': [85, 23], 'label': 1}],\n",
       " 'track_end_number': 1226}"
      ]
     },
     "execution_count": 16,
     "metadata": {},
     "output_type": "execute_result"
    }
   ],
   "source": [
    "import json\n",
    "import io\n",
    "import argparse\n",
    "args = argparse.ArgumentParser()\n",
    "\n",
    "args = argparse.ArgumentParser()\n",
    "args.add_argument('--input', type=str, default='test_sample/family_144.mp4')\n",
    "args.add_argument('--track_data', type=str,) # default='test_sample/family_480/blue_dress_lady_face.json')\n",
    "args.add_argument('--track_data_raw', type=str, default='[[1008, 85, 23, 1, 1226]]') #default='test_sample/family_144/blue_dress_lady_face.json')\n",
    "\n",
    "# {\n",
    "#     \"points\": [\n",
    "#         {\n",
    "#             \"frame\": 1008,\n",
    "#             \"pos\": [286,79],\n",
    "#             \"label\": 1\n",
    "#         }\n",
    "#     ],\n",
    "#     \"track_end_number\": 1226\n",
    "# }\n",
    "args = args.parse_args(\n",
    "    [\n",
    "        \"--input\", \"test_sample/family_144.mp4\",\n",
    "        \"--track_data_raw\", \"[[1008, 85, 23, 1, 1226]]\"\n",
    "    ]\n",
    ")\n",
    "if args.track_data is not None:\n",
    "    args.track_data = json.load(open(args.track_data, \"r\"))\n",
    "else:\n",
    "    args.track_data = json.loads(args.track_data_raw)\n",
    "    start_frame, x, y, label, end_frame = args.track_data[0]\n",
    "    args.track_data = {\n",
    "        \"points\": [\n",
    "            {   \n",
    "                \"frame\": start_frame,\n",
    "                \"pos\": [x, y],\n",
    "                \"label\": label\n",
    "            }\n",
    "        ],\n",
    "        \"track_end_number\": end_frame\n",
    "    }\n",
    "args.track_data"
   ]
  },
  {
   "cell_type": "code",
   "execution_count": 7,
   "metadata": {},
   "outputs": [
    {
     "data": {
      "text/plain": [
       "array([85, 23])"
      ]
     },
     "execution_count": 7,
     "metadata": {},
     "output_type": "execute_result"
    }
   ],
   "source": [
    "import numpy as np\n",
    "arr = np.array([286,79])\n",
    "((arr / [480, 270]) * [144, 82]).astype(int)"
   ]
  }
 ],
 "metadata": {
  "kernelspec": {
   "display_name": "otrack",
   "language": "python",
   "name": "python3"
  },
  "language_info": {
   "codemirror_mode": {
    "name": "ipython",
    "version": 3
   },
   "file_extension": ".py",
   "mimetype": "text/x-python",
   "name": "python",
   "nbconvert_exporter": "python",
   "pygments_lexer": "ipython3",
   "version": "3.10.11"
  },
  "orig_nbformat": 4
 },
 "nbformat": 4,
 "nbformat_minor": 2
}
